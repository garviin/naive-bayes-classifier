{
 "cells": [
  {
   "cell_type": "markdown",
   "metadata": {},
   "source": [
    "\n",
    "### The University of Melbourne, School of Computing and Information Systems\n",
    "# COMP30027 Machine Learning, 2020 Semester 1\n",
    "\n",
    "## Assignment 1: Naive Bayes Classifiers\n",
    "\n",
    "###### Submission deadline: 7 pm, Monday 20 Apr 2020"
   ]
  },
  {
   "cell_type": "markdown",
   "metadata": {},
   "source": [
    "**Student Name(s):**    `Garvin Prathama Bulkin`\n",
    "\n",
    "**Student ID(s):**     `927842`\n"
   ]
  },
  {
   "cell_type": "markdown",
   "metadata": {},
   "source": [
    "This iPython notebook is a template which you will use for your Assignment 1 submission.\n",
    "\n",
    "Marking will be applied on the four functions that are defined in this notebook, and to your responses to the questions at the end of this notebook (Submitted in a separate PDF file).\n",
    "\n",
    "**NOTE: YOU SHOULD ADD YOUR RESULTS, DIAGRAMS AND IMAGES FROM YOUR OBSERVATIONS IN THIS FILE TO YOUR REPORT (the PDF file).**\n",
    "\n",
    "You may change the prototypes of these functions, and you may write other functions, according to your requirements. We would appreciate it if the required functions were prominent/easy to find.\n",
    "\n",
    "**Adding proper comments to your code is MANDATORY. **"
   ]
  },
  {
   "cell_type": "code",
   "execution_count": 1,
   "metadata": {},
   "outputs": [],
   "source": [
    "# LIBRARY IMPORTS\n",
    "\n",
    "# Importing General Tools\n",
    "import numpy as np\n",
    "import pandas as pd\n",
    "from collections import defaultdict\n",
    "\n",
    "# Used to hot encode nominal attributes\n",
    "from sklearn.preprocessing import OneHotEncoder\n",
    "\n",
    "# Used to plot confusion matrix\n",
    "import matplotlib.pyplot as plt\n",
    "import seaborn as sn\n",
    "\n",
    "# Miscellaneous \n",
    "import math # For gaussian formula (sqrt())\n",
    "import random # Random baseline (choice())\n",
    "import operator # Choosing max item\n",
    "from collections import Counter # zeroR baseline, counting mode class "
   ]
  },
  {
   "cell_type": "code",
   "execution_count": 117,
   "metadata": {},
   "outputs": [],
   "source": [
    "# CONSTANTS\n",
    "\n",
    "# Number of bins for discretizing\n",
    "BINS = 3\n",
    "\n",
    "# Index for class labels\n",
    "LABEL_LOC = 0\n",
    "\n",
    "# Train/test split ratio\n",
    "SPLIT_RATIO = 0.33\n",
    "\n",
    "# Train/test seed\n",
    "SEED = 1"
   ]
  },
  {
   "cell_type": "code",
   "execution_count": 115,
   "metadata": {},
   "outputs": [],
   "source": [
    "# PREPROCESS FUNCTION\n",
    "\n",
    "# Function takes in a filename, and an optional variable to enable discretization (default=OFF)\n",
    "def preprocess(filename, discretize=False):\n",
    "    # Reading from file to dataframe\n",
    "    df = pd.read_table(filename, sep=',', header=None)\n",
    "    \n",
    "    # Drop missing values\n",
    "    df = df[(df != '?').all(axis=1)]\n",
    "    df.dropna(inplace=True)\n",
    "    drop_id = []\n",
    "    \n",
    "    # Handle cases\n",
    "    # y_index indicates the index of class labels\n",
    "    # d_types represents datatypes across columns\n",
    "    if(filename == 'datasets/wine.data'):\n",
    "        y_index = 0\n",
    "        dtypes = ['numeric']*13\n",
    "    elif(filename == 'datasets/wdbc.data'):\n",
    "        y_index = 1\n",
    "        dtypes = ['numeric']*31\n",
    "    elif(filename == 'datasets/mushroom.data'):\n",
    "        y_index = 0\n",
    "        dtypes = ['nominal']*22\n",
    "        drop_id = 1\n",
    "    elif(filename == 'datasets/car.data'):\n",
    "        # Indicate ordering of categories\n",
    "        ord_categories = [['v-high', 'high', 'med', 'low'],['v-high', 'high', 'med', 'low'],\n",
    "                          ['2', '3', '4', '5-more'],['2', '4', 'more'],\n",
    "                          ['small', 'med', 'big'],['low', 'med', 'high']]\n",
    "        y_index = 6\n",
    "        dtypes = ['ordinal']*6\n",
    "    elif(filename == 'datasets/adult.data'):\n",
    "        y_index = 14\n",
    "        dtypes = ['numeric', 'nominal','numeric', 'ordinal', 'ordinal',\n",
    "                  'nominal', 'nominal', 'nominal', 'nominal', 'nominal',\n",
    "                  'numeric', 'numeric', 'numeric', 'nominal']\n",
    "        drop_id = 1\n",
    "    else:\n",
    "        y_index = len(df.columns)-1\n",
    "        types = df.dtypes\n",
    "    \n",
    "    # Initialize dataframe for attributes\n",
    "    x_df = pd.DataFrame()\n",
    "    \n",
    "    # Handling different types:\n",
    "    i = 0\n",
    "    for label in df.columns:\n",
    "        if(label != y_index):\n",
    "            # Handle NUMERICAL data (discretizing with equal width bins)\n",
    "            if(discretize and dtypes[i] == 'numeric'):\n",
    "                x_df[label] = pd.cut(df[label], BINS, labels=range(0,BINS))\n",
    "            else:\n",
    "                x_df[label] = df[label]\n",
    "            i+=1\n",
    "            \n",
    "    # Resetting column indexes\n",
    "    x_df.columns = range(x_df.shape[1])\n",
    "    \n",
    "    #Handle ordinal values\n",
    "    # Enumerating ordinal datatypes to create numerical order\n",
    "    ordinal_idx = [i for i, x in enumerate(dtypes) if x == \"ordinal\"]\n",
    "    for index in ordinal_idx:\n",
    "        x_df[index] = x_df[index].astype('category').cat.codes\n",
    "\n",
    "    # Handle nominal values\n",
    "    # Hot encoding:\n",
    "#     nominal_idx = [i for i, x in enumerate(dtypes) if x == \"nominal\"]\n",
    "#     x_df = pd.get_dummies(x_df, columns=nominal_idx)\n",
    "    \n",
    "    # Concatenate class label column with attribute dataframe\n",
    "    result= pd.concat([df[y_index].to_frame(),x_df], axis=1, ignore_index=True)\n",
    "    \n",
    "    # Return a numpy array of the dataframe and datatype of each column\n",
    "    return result.to_numpy(), dtypes"
   ]
  },
  {
   "cell_type": "code",
   "execution_count": 105,
   "metadata": {},
   "outputs": [],
   "source": [
    "# TRAIN FUNCTION\n",
    "\n",
    "# Function takes in array of data and its types, calculates prior probabilities and likelihoods \n",
    "# from the training data to build a Naive Bayes model. Model is returned in the form of priors and likelihoods.\n",
    "def train(data,dtypes):\n",
    "    # Calculate class priors\n",
    "    class_priors = get_priors(data)\n",
    "    \n",
    "    # Calculate likelihoods of p(a|c)\n",
    "    likelihoods = get_likelihoods(data, class_priors)\n",
    "    \n",
    "    # Calculate gaussian probabilities\n",
    "    gauss_prob = get_stats(data,dtypes)\n",
    "    return (class_priors, likelihoods, gauss_prob)\n",
    "\n",
    "# Function takes in np.array as input and returns the prior probabilities for each class\n",
    "def get_priors(data):\n",
    "    # Use defaultdict to count occurence of each class label\n",
    "    priors = defaultdict(float)\n",
    "    \n",
    "    # Iterate through instances and calculates the priors after iteration\n",
    "    for instance in data:\n",
    "        priors[instance[LABEL_LOC]] += 1\n",
    "    for label in priors.keys():\n",
    "        priors[label] = priors[label] / np.shape(data)[0]\n",
    "    return priors\n",
    "\n",
    "# Function takes in training data and prior probabilities and returns the likelihood of each class\n",
    "# and the attributes.\n",
    "# NOTE: Used epsilon smoothing with epsilon = 1/N\n",
    "def get_likelihoods(data, priors):\n",
    "    EPSILON = 1/np.shape(data)[0]\n",
    "    \n",
    "    # Use defaultdict to keep probabilities, default value is epsilon used as smoothing method\n",
    "    likelihoods = defaultdict(lambda: defaultdict(lambda: defaultdict(lambda:EPSILON)))\n",
    "    \n",
    "    # Iterates through each column and calculates its likelihood for each class\n",
    "    for column in range(1,np.shape(data)[1]):\n",
    "        for instance in data:\n",
    "            likelihoods[instance[LABEL_LOC]][column][instance[column]] += 1\n",
    "    for label in priors.keys():\n",
    "        for column in range(1,np.shape(data)[1]):\n",
    "            for attribute in likelihoods[label][column].keys():\n",
    "                likelihoods[label][column][attribute] /= (priors[label] * np.shape(data)[0])\n",
    "    return likelihoods\n",
    "\n",
    "# Function specifically used for Gaussian Bayes, it takes in training data and its datatypes and returns a\n",
    "# dictionary of mean and standard deviations for each numerical column\n",
    "def get_stats(data,dtypes):\n",
    "    EPSILON = 1/np.shape(data)[0]\n",
    "    separated = defaultdict(list)\n",
    "    for instance in data:\n",
    "        separated[instance[LABEL_LOC]].append(instance)\n",
    "        \n",
    "\n",
    "    stats = defaultdict(lambda: defaultdict(lambda:defaultdict(lambda:EPSILON)))\n",
    "    for column_idx in range(1,np.shape(data)[1]):\n",
    "        if(dtypes[column_idx-1] == 'numeric'):\n",
    "            for class_label in separated.keys():\n",
    "                column = np.array(separated[class_label])[:,column_idx]\n",
    "                stats[class_label][column_idx]['mu'] = np.mean(column)\n",
    "                stats[class_label][column_idx]['std'] = np.std(column)\n",
    "    return stats\n",
    "\n",
    "# Returns the probability based on the gaussian bayes formula\n",
    "def get_gauss_probability(x,mean,std):\n",
    "    first_term = 1/(std*(math.sqrt(2*math.pi)))\n",
    "    exponent = math.exp((-1/2)*(((x-mean)/std)**2))\n",
    "    return first_term * exponent\n",
    "\n",
    "# Helper function that returns all class labels for a dataset\n",
    "def get_class_labels(data):\n",
    "    return np.unique(data[:,LABEL_LOC])"
   ]
  },
  {
   "cell_type": "code",
   "execution_count": 106,
   "metadata": {},
   "outputs": [],
   "source": [
    "# PREDICT FUNCTION\n",
    "\n",
    "# Function takes in a test set, training set, and its datatypes, and returns an array of predictions using\n",
    "# the Naive Bayes Model\n",
    "def predict(test,training_set,dtypes,gaussian=True):\n",
    "    # Retrieves Model probabilities using train()\n",
    "    priors = get_priors(train)\n",
    "    likelihoods = get_likelihoods(train,priors)\n",
    "    gauss_prob = get_stats(train,dtypes)\n",
    "    \n",
    "    # Iterating trough each instance and making prediction based on the Naive Bayes model\n",
    "    result = []\n",
    "    for instance in test:\n",
    "        result.append(predict_instance(instance,training_set,priors,likelihoods,dtypes,gauss_prob,gaussian))\n",
    "        \n",
    "    # Return array of predictions\n",
    "    return np.array(result)\n",
    "\n",
    "# Function takes in test instance, and the probabilities from the Naive Bayes model to predict label for the instance\n",
    "def predict_instance(instance,data,priors,likelihoods,gauss_prob,dtypes,gaussian=True):\n",
    "    # Getting class label to initialize probabilities\n",
    "    class_labels = get_class_labels(data)\n",
    "    probabilities = defaultdict(lambda:1.0)\n",
    "    \n",
    "    # Initializing each class probability using prior probabilities\n",
    "    i = 0\n",
    "    for label in class_labels:\n",
    "        if(dtypes[i]!='numerical' and gaussian):\n",
    "            probabilities[label] = priors[label]\n",
    "        i += 1      \n",
    "    \n",
    "    # Calculating the probability for each class for the given instance\n",
    "    for column in range(1,len(instance)):\n",
    "        for label in class_labels:\n",
    "            # If using gaussian NB:\n",
    "            if(gaussian and dtypes[column] == 'numerical'):\n",
    "                probabilities[label] *= get_gauss_probability(instance[column], \n",
    "                                                              gauss_prob[label][column]['mu'], \n",
    "                                                                  gauss_prob[label][column]['std'])\n",
    "            # Non-gaussian NB:\n",
    "            else:\n",
    "                probabilities[label] *= likelihoods[label][column][instance[column]]\n",
    "                \n",
    "    # Return the class with highest probability\n",
    "    return max(probabilities.items(), key=operator.itemgetter(1))[0]\n",
    "\n",
    "# Function splits input data to train and test sets\n",
    "def split_instances(data):\n",
    "    # Shuffles data and splits them based on SPLIT_RATIO\n",
    "    np.random.seed(SEED)\n",
    "    np.random.shuffle(data)\n",
    "    cutoff = int(data.shape[0] * SPLIT_RATIO)\n",
    "    test, training =data[:cutoff,:], data[cutoff:,:]\n",
    "    return test, training"
   ]
  },
  {
   "cell_type": "code",
   "execution_count": 107,
   "metadata": {},
   "outputs": [],
   "source": [
    "# EVALUATE FUNCTION\n",
    "\n",
    "# Function takes in a test set and the array containing prediction of class labels, and prints relevant metrics to\n",
    "# measure the effectiveness of the model\n",
    "def evaluate(test_set, prediction):\n",
    "    print(\"Accuracy: {:.0%}\".format(get_accuracy(test, prediction)))\n",
    "    print(\"Error-rate: {:.0%}\".format(get_error_rate(test, prediction)))\n",
    "    print(\"Precision: {:.0%}\".format(get_precision(test, prediction)))\n",
    "    print(\"Recall: {:.0%}\".format(get_recall(test, prediction)))\n",
    "    print(\"F1 Score: {:.2f}\".format(get_f1(test, prediction)))\n",
    "    \n",
    "    # F1 Score not used for multiclass datasets\n",
    "    if(len(get_class_labels(test_set)) > 2):\n",
    "        get_confusion_matrix(test,prediction)\n",
    "    return\n",
    "\n",
    "# Returns the accuracy of the model\n",
    "def get_accuracy(test_set, prediction_result):\n",
    "    return count_correct_labels(test_set, prediction_result)/np.shape(test_set)[0]\n",
    "\n",
    "# Returns the error rate of the model\n",
    "def get_error_rate(test_set, prediction_result):\n",
    "    return 1 - get_accuracy(test_set,prediction_result)\n",
    "\n",
    "# Returns the precision of the model using using true positives and false positives\n",
    "def get_precision(test_set, prediction_result):\n",
    "    class_labels = get_class_labels(test_set)\n",
    "    precisions = []    \n",
    "    \n",
    "    for label in class_labels:\n",
    "        tp = count_true_positives(test_set, prediction_result,label)\n",
    "        fp = count_false_positives(test_set, prediction_result,label)\n",
    "        \n",
    "        if(len(class_labels) <= 2):\n",
    "            return tp/(tp+fp)\n",
    "        precisions.append(tp/(tp+fp))\n",
    "    \n",
    "    return np.mean(np.array(precisions))\n",
    "\n",
    "# Returns the recall rate\n",
    "def get_recall(test_set, prediction_result):\n",
    "    class_labels = get_class_labels(test_set)\n",
    "    recalls = []    \n",
    "    \n",
    "    # Handling multiclass recall\n",
    "    for label in class_labels:\n",
    "        tp = count_true_positives(test_set, prediction_result,label)\n",
    "        # Counts error by subtracting total instances by total correct labels\n",
    "        errors = np.shape(test_set)[0] - count_correct_labels(test_set, prediction_result)\n",
    "        fn = errors - count_false_positives(test_set, prediction_result,label)\n",
    "        \n",
    "        if(len(class_labels) <= 2):\n",
    "            return (tp/(tp+fn))\n",
    "        \n",
    "        recalls.append(tp/(tp+fn))\n",
    "\n",
    "    return np.mean(np.array(recalls))\n",
    "\n",
    "# Returns the F1 score\n",
    "def get_f1(test_set, prediction_result):\n",
    "    precision = get_precision(test_set,prediction_result)\n",
    "    recall = get_recall(test_set,prediction_result)\n",
    "    return (2*precision*recall)/(precision+recall)\n",
    "\n",
    "# Function counts the number of correctly predicted labels\n",
    "def count_correct_labels(test_set, prediction_result):\n",
    "    return sum(x == y for x, y in zip(test_set[:,0], prediction_result))\n",
    "\n",
    "# Function counts the number of true positives in the prediction\n",
    "def count_true_positives(test_set, prediction_result,positive_label):\n",
    "    count = 0\n",
    "    for i in range(0,len(prediction_result)):\n",
    "        if(test[:,0][i] == prediction_result[i] == positive_label):\n",
    "            count+=1\n",
    "    return count\n",
    "\n",
    "# Function counts the number of false positives in the prediction\n",
    "def count_false_positives(test_set, prediction_result,positive_label):\n",
    "    count = 0\n",
    "    for i in range(0,len(prediction_result)):\n",
    "        if((test[:,0][i] != prediction_result[i]) and (prediction_result[i] == positive_label)):\n",
    "            count+=1\n",
    "    return count\n",
    "\n",
    "# NOTE: Used for multiclass evaluation\n",
    "# Function outputs the confusion matrix for a given test set and model predictions\n",
    "def get_confusion_matrix(test_set,prediction_result):\n",
    "    # Class labels for labelling the confusion matrix\n",
    "    class_labels = get_class_labels(test_set)\n",
    "    \n",
    "    # Iterate through test set and predictions to count correct labels for each class\n",
    "    count_correct = defaultdict(float)\n",
    "    count_instance = defaultdict(int)\n",
    "    for actual,prediction in zip(test_set[:,0], prediction_result):\n",
    "        if(actual == prediction):\n",
    "            count_correct[actual] += 1\n",
    "        count_instance[actual] += 1\n",
    "    \n",
    "    # Calculates the accuracy for each class\n",
    "    for key in count_correct.keys():\n",
    "        count_correct[key] /= count_instance[key]\n",
    "        \n",
    "    # Creating & plotting the confusion matrix using seaborn heatmap\n",
    "    matrix = np.diag(list(count_correct.values()))\n",
    "    df_cm = pd.DataFrame(matrix, index = class_labels,columns = class_labels)\n",
    "    plt.figure(figsize = (11,8))\n",
    "    sn.heatmap(df_cm, annot=True)\n",
    "    plt.xlabel('Predicted')\n",
    "    plt.ylabel('Actual')\n",
    "    return\n",
    "    "
   ]
  },
  {
   "cell_type": "markdown",
   "metadata": {},
   "source": [
    "## Questions \n",
    "\n",
    "\n",
    "If you are in a group of 1, you will respond to question (1), and **one** other of your choosing (two responses in total).\n",
    "\n",
    "If you are in a group of 2, you will respond to question (1) and question (2), and **two** others of your choosing (four responses in total). \n",
    "\n",
    "A response to a question should take about 100–250 words, and make reference to the data wherever possible.\n",
    "\n",
    "#### NOTE: you may develope codes or functions in respond to the question, but your formal answer should be added to a separate file."
   ]
  },
  {
   "cell_type": "markdown",
   "metadata": {},
   "source": [
    "### Q1\n",
    "Try discretising the numeric attributes in these datasets and treating them as discrete variables in the na¨ıve Bayes classifier. You can use a discretisation method of your choice and group the numeric values into any number of levels (but around 3 to 5 levels would probably be a good starting point). Does discretizing the variables improve classification performance, compared to the Gaussian na¨ıve Bayes approach? Why or why not?"
   ]
  },
  {
   "cell_type": "code",
   "execution_count": 118,
   "metadata": {
    "scrolled": true
   },
   "outputs": [
    {
     "name": "stdout",
     "output_type": "stream",
     "text": [
      "Wine Dataset:\n",
      "\n",
      "Gaussian Naive Bayes:\n",
      "Accuracy: 72%\n",
      "Error-rate: 28%\n",
      "Precision: 73%\n",
      "Recall: 56%\n",
      "F1 Score: 0.63\n",
      "\n",
      "Naive Bayes:\n",
      "Accuracy: 95%\n",
      "Error-rate: 5%\n",
      "Precision: 94%\n",
      "Recall: 90%\n",
      "F1 Score: 0.92\n"
     ]
    },
    {
     "data": {
      "text/plain": [
       "Text(0.5, 1, 'Naive Bayes (discretized numeric att.) Confusion Matrix')"
      ]
     },
     "execution_count": 118,
     "metadata": {},
     "output_type": "execute_result"
    },
    {
     "data": {
      "image/png": "[encoded data removed]",
      "text/plain": [
       "<Figure size 792x576 with 2 Axes>"
      ]
     },
     "metadata": {
      "needs_background": "light"
     },
     "output_type": "display_data"
    },
    {
     "data": {
      "image/png": "[encoded data removed]",
      "text/plain": [
       "<Figure size 792x576 with 2 Axes>"
      ]
     },
     "metadata": {
      "needs_background": "light"
     },
     "output_type": "display_data"
    }
   ],
   "source": [
    "# Gaussian Naive Bayes\n",
    "print(\"Wine Dataset:\\n\")\n",
    "print(\"Gaussian Naive Bayes:\")\n",
    "data, types= preprocess('datasets/wine.data',discretize=False)\n",
    "test,train = split_instances(data)\n",
    "prediction = predict(test,train,types,gaussian=True)\n",
    "random_prediction = random_baseline(test)\n",
    "evaluate(test, prediction)\n",
    "plt.title(\"Gaussian Naive Bayes Confusion Matrix\")\n",
    "\n",
    "# Naive Bayes with discretized numeric variables\n",
    "print(\"\\nNaive Bayes:\")\n",
    "data, types= preprocess('datasets/wine.data',discretize=True)\n",
    "test,train = split_instances(data)\n",
    "prediction = predict(test,train,types, gaussian=False)\n",
    "random_prediction = random_baseline(test)\n",
    "evaluate(test, prediction)\n",
    "plt.title(\"Naive Bayes (discretized numeric att.) Confusion Matrix\")"
   ]
  },
  {
   "cell_type": "code",
   "execution_count": 109,
   "metadata": {},
   "outputs": [
    {
     "name": "stdout",
     "output_type": "stream",
     "text": [
      "WDBC Dataset:\n",
      "\n",
      "Gaussian Naive Bayes:\n",
      "Accuracy: 71%\n",
      "Error-rate: 29%\n",
      "Precision: 77%\n",
      "Recall: 80%\n",
      "F1 Score: 0.78\n",
      "\n",
      "Naive Bayes:\n",
      "Accuracy: 96%\n",
      "Error-rate: 4%\n",
      "Precision: 96%\n",
      "Recall: 98%\n",
      "F1 Score: 0.97\n"
     ]
    }
   ],
   "source": [
    "# Gaussian Naive Bayes\n",
    "print(\"WDBC Dataset:\\n\")\n",
    "print(\"Gaussian Naive Bayes:\")\n",
    "data, types= preprocess('datasets/wdbc.data',discretize=False)\n",
    "test,train = split_instances(data)\n",
    "prediction = predict(test,train,types,gaussian=True)\n",
    "random_prediction = random_baseline(test)\n",
    "evaluate(test, prediction)\n",
    "\n",
    "# Naive Bayes with discretized numeric variables\n",
    "print(\"\\nNaive Bayes:\")\n",
    "data, types= preprocess('datasets/wdbc.data',discretize=True)\n",
    "test,train = split_instances(data)\n",
    "prediction = predict(test,train,types, gaussian=False)\n",
    "random_prediction = random_baseline(test)\n",
    "evaluate(test, prediction)"
   ]
  },
  {
   "cell_type": "code",
   "execution_count": 116,
   "metadata": {},
   "outputs": [
    {
     "name": "stdout",
     "output_type": "stream",
     "text": [
      "Adult Dataset:\n",
      "\n",
      "Gaussian Naive Bayes:\n",
      "Accuracy: 84%\n",
      "Error-rate: 16%\n",
      "Precision: 93%\n",
      "Recall: 85%\n",
      "F1 Score: 0.89\n",
      "\n",
      "Naive Bayes:\n",
      "Accuracy: 78%\n",
      "Error-rate: 22%\n",
      "Precision: 94%\n",
      "Recall: 76%\n",
      "F1 Score: 0.84\n"
     ]
    }
   ],
   "source": [
    "# Gaussian Naive Bayes\n",
    "print(\"Adult Dataset:\\n\")\n",
    "print(\"Gaussian Naive Bayes:\")\n",
    "data, types= preprocess('datasets/adult.data',discretize=False)\n",
    "test,train = split_instances(data)\n",
    "prediction = predict(test,train,types,gaussian=True)\n",
    "random_prediction = random_baseline(test)\n",
    "evaluate(test, prediction)\n",
    "\n",
    "# Naive Bayes with discretized numeric variables\n",
    "print(\"\\nNaive Bayes:\")\n",
    "data, types= preprocess('datasets/adult.data',discretize=True)\n",
    "test,train = split_instances(data)\n",
    "prediction = predict(test,train,types, gaussian=False)\n",
    "random_prediction = random_baseline(test)\n",
    "evaluate(test, prediction)"
   ]
  },
  {
   "cell_type": "markdown",
   "metadata": {},
   "source": [
    "### Q2\n",
    "Implement a baseline model (e.g., random or 0R) and compare the performance of the na¨ıve Bayes classifier to this baseline on multiple datasets. Discuss why the baseline performance varies across datasets, and to what extent the na¨ıve Bayes classifier improves on the baseline performance."
   ]
  },
  {
   "cell_type": "code",
   "execution_count": 111,
   "metadata": {},
   "outputs": [],
   "source": [
    "# Random baseline model that outputs random predictions\n",
    "def random_baseline(test_set):\n",
    "    class_labels = get_class_labels(test_set)\n",
    "    return [random.choice(class_labels) for i in range(0,len(test_set))]\n",
    "\n",
    "# Zero R baseline model that outputs the mode of the test set\n",
    "def zeroR_baseline(test_set):\n",
    "    class_labels = get_class_labels(test_set)\n",
    "    return [Counter(test_set[:,0]).most_common(1)[0][0]]*len(test_set)"
   ]
  },
  {
   "cell_type": "code",
   "execution_count": 112,
   "metadata": {},
   "outputs": [
    {
     "name": "stdout",
     "output_type": "stream",
     "text": [
      "Wine Dataset\n",
      "\n",
      "Naive Bayes:\n",
      "Accuracy: 97%\n",
      "Error-rate: 3%\n",
      "Precision: 97%\n",
      "Recall: 92%\n",
      "F1 Score: 0.95\n",
      "\n",
      "Random Baseline:\n",
      "Accuracy: 36%\n",
      "Error-rate: 64%\n",
      "Precision: 38%\n",
      "Recall: 22%\n",
      "F1 Score: 0.28\n"
     ]
    },
    {
     "data": {
      "text/plain": [
       "Text(0.5, 1, 'Random Baseline Confusion Matrix')"
      ]
     },
     "execution_count": 112,
     "metadata": {},
     "output_type": "execute_result"
    },
    {
     "data": {
      "image/png": "[encoded data removed]",
      "text/plain": [
       "<Figure size 792x576 with 2 Axes>"
      ]
     },
     "metadata": {
      "needs_background": "light"
     },
     "output_type": "display_data"
    },
    {
     "data": {
      "image/png": "[encoded data removed]",
      "text/plain": [
       "<Figure size 792x576 with 2 Axes>"
      ]
     },
     "metadata": {
      "needs_background": "light"
     },
     "output_type": "display_data"
    }
   ],
   "source": [
    "# Wine Dataset\n",
    "data, types= preprocess('datasets/wine.data',discretize=True)\n",
    "test,train = split_instances(data)\n",
    "prediction = predict(test,train,types)\n",
    "random_prediction = random_baseline(test)\n",
    "\n",
    "# Evaluation\n",
    "print(\"Wine Dataset\\n\")\n",
    "print(\"Naive Bayes:\")\n",
    "evaluate(test, prediction)\n",
    "plt.title(\"Naive Bayes Confusion Matrix\")\n",
    "\n",
    "# Evaluation of random baseline\n",
    "print(\"\\nRandom Baseline:\")\n",
    "evaluate(test, random_prediction)\n",
    "plt.title(\"Random Baseline Confusion Matrix\")"
   ]
  },
  {
   "cell_type": "code",
   "execution_count": 113,
   "metadata": {},
   "outputs": [
    {
     "name": "stdout",
     "output_type": "stream",
     "text": [
      "Mushroom Dataset\n",
      "\n",
      "Naive Bayes:\n",
      "Accuracy: 98%\n",
      "Error-rate: 2%\n",
      "Precision: 97%\n",
      "Recall: 100%\n",
      "F1 Score: 0.98\n",
      "\n",
      "Random Baseline:\n",
      "Accuracy: 50%\n",
      "Error-rate: 50%\n",
      "Precision: 63%\n",
      "Recall: 47%\n",
      "F1 Score: 0.54\n"
     ]
    }
   ],
   "source": [
    "# Mushroom Dataset\n",
    "data, types= preprocess('datasets/mushroom.data',True)\n",
    "test,train = split_instances(data)\n",
    "prediction = predict(test,train,types)\n",
    "random_prediction = random_baseline(test)\n",
    "# zeroR_prediction = zeroR_baseline(test)\n",
    "\n",
    "print(\"Mushroom Dataset\\n\")\n",
    "print(\"Naive Bayes:\")\n",
    "evaluate(test, prediction)\n",
    "\n",
    "\n",
    "print(\"\\nRandom Baseline:\")\n",
    "evaluate(test, random_prediction)"
   ]
  },
  {
   "cell_type": "code",
   "execution_count": 70,
   "metadata": {},
   "outputs": [
    {
     "name": "stdout",
     "output_type": "stream",
     "text": [
      "Car Dataset\n",
      "\n",
      "Naive Bayes:\n",
      "Accuracy: 87%\n",
      "Error-rate: 13%\n",
      "Precision: 80%\n",
      "Recall: 46%\n",
      "F1 Score: 0.58\n",
      "\n",
      "Random Baseline:\n",
      "Accuracy: 26%\n",
      "Error-rate: 74%\n",
      "Precision: 26%\n",
      "Recall: 9%\n",
      "F1 Score: 0.13\n"
     ]
    },
    {
     "data": {
      "image/png": "[encoded data removed]",
      "text/plain": [
       "<Figure size 792x576 with 2 Axes>"
      ]
     },
     "metadata": {
      "needs_background": "light"
     },
     "output_type": "display_data"
    },
    {
     "data": {
      "image/png": "[encoded data removed]",
      "text/plain": [
       "<Figure size 792x576 with 2 Axes>"
      ]
     },
     "metadata": {
      "needs_background": "light"
     },
     "output_type": "display_data"
    }
   ],
   "source": [
    "# Car Dataset\n",
    "data, types= preprocess('datasets/car.data',True)\n",
    "test,train = split_instances(data)\n",
    "prediction = predict(test,train,types)\n",
    "random_prediction = random_baseline(test)\n",
    "# zeroR_prediction = zeroR_baseline(test)\n",
    "\n",
    "print(\"Car Dataset\\n\")\n",
    "print(\"Naive Bayes:\")\n",
    "evaluate(test, prediction)\n",
    "\n",
    "\n",
    "print(\"\\nRandom Baseline:\")\n",
    "evaluate(test, random_prediction)"
   ]
  },
  {
   "cell_type": "code",
   "execution_count": 114,
   "metadata": {},
   "outputs": [
    {
     "name": "stdout",
     "output_type": "stream",
     "text": [
      "Wine Dataset\n",
      "\n",
      "Naive Bayes:\n",
      "Accuracy: 81%\n",
      "Error-rate: 19%\n",
      "Precision: 92%\n",
      "Recall: 83%\n",
      "F1 Score: 0.87\n",
      "\n",
      "Random Baseline:\n",
      "Accuracy: 49%\n",
      "Error-rate: 51%\n",
      "Precision: 74%\n",
      "Recall: 49%\n",
      "F1 Score: 0.59\n"
     ]
    }
   ],
   "source": [
    "# Adult Dataset\n",
    "data, types= preprocess('datasets/adult.data',True)\n",
    "test,train = split_instances(data)\n",
    "prediction = predict(test,train,types)\n",
    "random_prediction = random_baseline(test)\n",
    "# zeroR_prediction = zeroR_baseline(test)\n",
    "\n",
    "print(\"Adult Dataset\\n\")\n",
    "print(\"Naive Bayes:\")\n",
    "evaluate(test, prediction)\n",
    "\n",
    "\n",
    "print(\"\\nRandom Baseline:\")\n",
    "evaluate(test, random_prediction)"
   ]
  },
  {
   "cell_type": "markdown",
   "metadata": {},
   "source": [
    "### Q3\n",
    "Since it’s difficult to model the probabilities of ordinal data, ordinal attributes are often treated as either nominal variables or numeric variables. Compare these strategies on the ordinal datasets provided. Deterimine which approach gives higher classification accuracy and discuss why."
   ]
  },
  {
   "cell_type": "code",
   "execution_count": null,
   "metadata": {},
   "outputs": [],
   "source": []
  },
  {
   "cell_type": "markdown",
   "metadata": {},
   "source": [
    "### Q4\n",
    "Evaluating the model on the same data that we use to train the model is considered to be a major mistake in Machine Learning. Implement a hold–out or cross–validation evaluation strategy (you should implement this yourself and do not simply call existing implementations from `scikit-learn`). How does your estimate of effectiveness change, compared to testing on the training data? Explain why. (The result might surprise you!)"
   ]
  },
  {
   "cell_type": "code",
   "execution_count": null,
   "metadata": {},
   "outputs": [],
   "source": []
  },
  {
   "cell_type": "markdown",
   "metadata": {},
   "source": [
    "### Q5\n",
    "Implement one of the advanced smoothing regimes (add-k, Good-Turing). Does changing the smoothing regime (or indeed, not smoothing at all) affect the effectiveness of the na¨ıve Bayes classifier? Explain why, or why not."
   ]
  },
  {
   "cell_type": "code",
   "execution_count": null,
   "metadata": {},
   "outputs": [],
   "source": []
  },
  {
   "cell_type": "markdown",
   "metadata": {},
   "source": [
    "### Q6\n",
    "The Gaussian na¨ıve Bayes classifier assumes that numeric attributes come from a Gaussian distribution. Is this assumption always true for the numeric attributes in these datasets? Identify some cases where the Gaussian assumption is violated and describe any evidence (or lack thereof) that this has some effect on the NB classifier’s predictions."
   ]
  },
  {
   "cell_type": "code",
   "execution_count": null,
   "metadata": {
    "collapsed": true
   },
   "outputs": [],
   "source": []
  }
 ],
 "metadata": {
  "kernelspec": {
   "display_name": "Python 3",
   "language": "python",
   "name": "python3"
  },
  "language_info": {
   "codemirror_mode": {
    "name": "ipython",
    "version": 3
   },
   "file_extension": ".py",
   "mimetype": "text/x-python",
   "name": "python",
   "nbconvert_exporter": "python",
   "pygments_lexer": "ipython3",
   "version": "3.8.0"
  }
 },
 "nbformat": 4,
 "nbformat_minor": 4
}
